{
 "cells": [
  {
   "cell_type": "markdown",
   "id": "ea82e89d",
   "metadata": {},
   "source": [
    "# ETL - Análise de Vendas e Distribuição de Metas\n",
    "\n",
    "**Autor:** Matheus Rodrigues  \n",
    "**Data:** Outubro 2025\n",
    "\n",
    "## Objetivos:\n",
    "1. Carregar dados de vendas e metas\n",
    "2. Processar e limpar dados usando Spark\n",
    "3. Criar modelo dimensional (Star Schema)\n",
    "4. Distribuir metas por cliente\n",
    "5. Exportar resultados"
   ]
  },
  {
   "cell_type": "markdown",
   "id": "41d7e1dd",
   "metadata": {},
   "source": [
    "## 1. Configuração Inicial"
   ]
  },
  {
   "cell_type": "code",
   "execution_count": null,
   "id": "e5babca2",
   "metadata": {},
   "outputs": [],
   "source": [
    "from pyspark.sql import SparkSession, Window\n",
    "from pyspark.sql.functions import (\n",
    "    col, sum, avg, count, max, min, when, lit, \n",
    "    year, month, last_day, add_months, months_between,\n",
    "    coalesce, round, datediff, row_number, expr, date_format\n",
    ")\n",
    "from pyspark.sql.types import *\n",
    "from datetime import datetime\n",
    "\n",
    "# Configurações\n",
    "print(f\"Iniciando processamento ETL - {datetime.now().strftime('%Y-%m-%d %H:%M:%S')}\")"
   ]
  },
  {
   "cell_type": "markdown",
   "id": "0b3532db",
   "metadata": {},
   "source": [
    "## 2. Definição de Parâmetros"
   ]
  },
  {
   "cell_type": "code",
   "execution_count": null,
   "id": "350a18c1",
   "metadata": {},
   "outputs": [],
   "source": [
    "# Widgets para parametrização (podem ser definidos no Job)\n",
    "dbutils.widgets.text(\"input_path\", \"/FileStore/tables/case/input\", \"Caminho dos arquivos de entrada\")\n",
    "dbutils.widgets.text(\"output_path\", \"/FileStore/tables/case/output\", \"Caminho de saída\")\n",
    "dbutils.widgets.text(\"ano_meta\", \"2025\", \"Ano para distribuição de metas\")\n",
    "\n",
    "# Obter valores\n",
    "INPUT_PATH = dbutils.widgets.get(\"input_path\")\n",
    "OUTPUT_PATH = dbutils.widgets.get(\"output_path\")\n",
    "ANO_META = int(dbutils.widgets.get(\"ano_meta\"))\n",
    "\n",
    "print(f\"Caminho de entrada: {INPUT_PATH}\")\n",
    "print(f\"Caminho de saída: {OUTPUT_PATH}\")\n",
    "print(f\"Ano de metas: {ANO_META}\")"
   ]
  },
  {
   "cell_type": "markdown",
   "id": "b587ee55",
   "metadata": {},
   "source": [
    "## 3. Carregamento de Dados"
   ]
  },
  {
   "cell_type": "code",
   "execution_count": null,
   "id": "53a1c45c",
   "metadata": {},
   "outputs": [],
   "source": [
    "def carregar_dados(sales_path, metas_path):\n",
    "    \"\"\"Carrega os arquivos de vendas e metas\"\"\"\n",
    "    \n",
    "    print(\"Carregando arquivo de vendas...\")\n",
    "    df_sales = spark.read \\\n",
    "        .option(\"header\", \"true\") \\\n",
    "        .option(\"inferSchema\", \"true\") \\\n",
    "        .option(\"encoding\", \"UTF-8\") \\\n",
    "        .csv(sales_path)\n",
    "    \n",
    "    print(f\"   {df_sales.count():,} registros de vendas carregados\")\n",
    "    \n",
    "    print(\"Carregando arquivo de metas...\")\n",
    "    df_metas = spark.read \\\n",
    "        .option(\"header\", \"true\") \\\n",
    "        .option(\"inferSchema\", \"true\") \\\n",
    "        .option(\"encoding\", \"UTF-8\") \\\n",
    "        .csv(metas_path)\n",
    "    \n",
    "    print(f\"   {df_metas.count():,} registros de metas carregados\")\n",
    "    \n",
    "    return df_sales, df_metas\n",
    "\n",
    "# Carregar dados\n",
    "SALES_PATH = f\"{INPUT_PATH}/sales.csv\"\n",
    "METAS_PATH = f\"{INPUT_PATH}/metas por marca.csv\"\n",
    "\n",
    "df_sales, df_metas = carregar_dados(SALES_PATH, METAS_PATH)"
   ]
  },
  {
   "cell_type": "markdown",
   "id": "34a40ef7",
   "metadata": {},
   "source": [
    "## 4. Exploração Inicial dos Dados"
   ]
  },
  {
   "cell_type": "code",
   "execution_count": null,
   "id": "56601610",
   "metadata": {},
   "outputs": [],
   "source": [
    "print(\"RESUMO DOS DADOS DE VENDAS\")\n",
    "print(\"=\" * 80)\n",
    "df_sales.printSchema()\n",
    "print(f\"\\nTotal de registros: {df_sales.count():,}\")\n",
    "print(f\"Colunas: {len(df_sales.columns)}\")\n",
    "\n",
    "display(df_sales.limit(10))"
   ]
  },
  {
   "cell_type": "code",
   "execution_count": null,
   "id": "bb897a32",
   "metadata": {},
   "outputs": [],
   "source": [
    "print(\"RESUMO DOS DADOS DE METAS\")\n",
    "print(\"=\" * 80)\n",
    "df_metas.printSchema()\n",
    "print(f\"\\nTotal de registros: {df_metas.count():,}\")\n",
    "print(f\"Colunas: {len(df_metas.columns)}\")\n",
    "\n",
    "display(df_metas.limit(10))"
   ]
  },
  {
   "cell_type": "markdown",
   "id": "dc8f9e17",
   "metadata": {},
   "source": [
    "## 5. Limpeza e Preparação dos Dados"
   ]
  },
  {
   "cell_type": "code",
   "execution_count": null,
   "id": "ee1223c4",
   "metadata": {},
   "outputs": [],
   "source": [
    "def limpar_dados(df_sales):\n",
    "    \"\"\"Limpa e padroniza os dados de vendas\"\"\"\n",
    "    \n",
    "    print(\"Limpando dados de vendas...\")\n",
    "    \n",
    "    # Remover duplicatas\n",
    "    inicial = df_sales.count()\n",
    "    df_clean = df_sales.dropDuplicates()\n",
    "    removidos = inicial - df_clean.count()\n",
    "    print(f\"   {removidos:,} duplicatas removidas\")\n",
    "    \n",
    "    # Remover nulos em campos essenciais\n",
    "    df_clean = df_clean.filter(\n",
    "        col(\"client_id\").isNotNull() & \n",
    "        col(\"date\").isNotNull() & \n",
    "        col(\"volume_hl\").isNotNull()\n",
    "    )\n",
    "    \n",
    "    # Padronizar tipos\n",
    "    df_clean = df_clean.withColumn(\"volume_hl\", col(\"volume_hl\").cast(\"double\")) \\\n",
    "                       .withColumn(\"b2b_status\", col(\"b2b_status\").cast(\"integer\"))\n",
    "    \n",
    "    # Adicionar coluna de valor (se não existir)\n",
    "    if \"valor\" not in df_clean.columns:\n",
    "        df_clean = df_clean.withColumn(\"valor\", col(\"volume_hl\") * 100)  # Valor estimado\n",
    "    \n",
    "    print(f\"   Dados limpos: {df_clean.count():,} registros\")\n",
    "    \n",
    "    return df_clean\n",
    "\n",
    "df_sales_clean = limpar_dados(df_sales)"
   ]
  },
  {
   "cell_type": "markdown",
   "id": "1817a680",
   "metadata": {},
   "source": [
    "## 6. Criação do Modelo Dimensional (Star Schema)"
   ]
  },
  {
   "cell_type": "code",
   "execution_count": null,
   "id": "c97464a0",
   "metadata": {},
   "outputs": [],
   "source": [
    "def criar_modelo_dimensional(df_sales):\n",
    "    \"\"\"Cria o modelo dimensional completo\"\"\"\n",
    "    \n",
    "    print(\"Criando modelo dimensional...\")\n",
    "    \n",
    "    # ===== DIMENSÃO CLIENTE =====\n",
    "    print(\"   Criando dim_cliente...\")\n",
    "    dim_cliente = df_sales.select(\"client_id\", \"cep\") \\\n",
    "        .dropDuplicates() \\\n",
    "        .withColumn(\"sk_cliente\", row_number().over(Window.orderBy(\"client_id\"))) \\\n",
    "        .select(\"sk_cliente\", \n",
    "                col(\"client_id\").alias(\"cliente_id\"),\n",
    "                \"cep\")\n",
    "    \n",
    "    print(f\"      {dim_cliente.count():,} clientes únicos\")\n",
    "    \n",
    "    # ===== DIMENSÃO PRODUTO =====\n",
    "    print(\"   Criando dim_produto...\")\n",
    "    dim_produto = df_sales.select(\"brand\") \\\n",
    "        .dropDuplicates() \\\n",
    "        .filter(col(\"brand\").isNotNull()) \\\n",
    "        .withColumn(\"sk_produto\", row_number().over(Window.orderBy(\"brand\"))) \\\n",
    "        .select(\"sk_produto\", \n",
    "                col(\"brand\").alias(\"marca\"))\n",
    "    \n",
    "    print(f\"      {dim_produto.count():,} produtos/marcas únicos\")\n",
    "    \n",
    "    # ===== DIMENSÃO TEMPO =====\n",
    "    print(\"   Criando dim_tempo...\")\n",
    "    dim_tempo = df_sales.select(\"date\") \\\n",
    "        .dropDuplicates() \\\n",
    "        .withColumn(\"sk_tempo\", row_number().over(Window.orderBy(\"date\"))) \\\n",
    "        .withColumn(\"ano\", year(\"date\")) \\\n",
    "        .withColumn(\"mes\", month(\"date\")) \\\n",
    "        .withColumn(\"trimestre\", expr(\"quarter(date)\")) \\\n",
    "        .select(\"sk_tempo\", \"date\", \"ano\", \"mes\", \"trimestre\")\n",
    "    \n",
    "    print(f\"      {dim_tempo.count():,} datas únicas\")\n",
    "    \n",
    "    # ===== FATO VENDAS =====\n",
    "    print(\"   Criando fato_vendas...\")\n",
    "    fato_vendas = df_sales \\\n",
    "        .join(dim_cliente, df_sales.client_id == dim_cliente.cliente_id, \"left\") \\\n",
    "        .join(dim_produto, df_sales.brand == dim_produto.marca, \"left\") \\\n",
    "        .join(dim_tempo, df_sales.date == dim_tempo.date, \"left\") \\\n",
    "        .select(\n",
    "            \"sk_cliente\",\n",
    "            \"sk_produto\",\n",
    "            \"sk_tempo\",\n",
    "            col(\"date\").alias(\"data\"),\n",
    "            \"volume_hl\",\n",
    "            \"valor\",\n",
    "            \"b2b_status\"\n",
    "        )\n",
    "    \n",
    "    print(f\"      {fato_vendas.count():,} transações no fato\")\n",
    "    \n",
    "    return {\n",
    "        'dim_cliente': dim_cliente,\n",
    "        'dim_produto': dim_produto,\n",
    "        'dim_tempo': dim_tempo,\n",
    "        'fato_vendas': fato_vendas\n",
    "    }\n",
    "\n",
    "modelo = criar_modelo_dimensional(df_sales_clean)"
   ]
  },
  {
   "cell_type": "markdown",
   "id": "91061e34",
   "metadata": {},
   "source": [
    "## 7. Criação da Visão Consolidada por Cliente"
   ]
  },
  {
   "cell_type": "code",
   "execution_count": null,
   "id": "d3f880b6",
   "metadata": {},
   "outputs": [],
   "source": [
    "def criar_visao_consolidada(df_sales):\n",
    "    \"\"\"Cria visão consolidada com métricas por cliente\"\"\"\n",
    "    \n",
    "    print(\"Criando visão consolidada por cliente...\")\n",
    "    \n",
    "    # Calcular data de referência (data mais recente nos dados)\n",
    "    data_referencia = df_sales.select(max(\"date\")).collect()[0][0]\n",
    "    print(f\"   Data de referência: {data_referencia}\")\n",
    "    \n",
    "    # Calcular limites de tempo\n",
    "    data_3m = add_months(lit(data_referencia), -3)\n",
    "    data_6m = add_months(lit(data_referencia), -6)\n",
    "    \n",
    "    # Visão consolidada por cliente\n",
    "    visao = df_sales.groupBy(\"client_id\").agg(\n",
    "        max(\"date\").alias(\"data_ultima_compra\"),\n",
    "        \n",
    "        # Volume médio últimos 3 meses\n",
    "        avg(when(col(\"date\") >= data_3m, col(\"volume_hl\"))).alias(\"volume_medio_3m\"),\n",
    "        \n",
    "        # Volume médio últimos 6 meses\n",
    "        avg(when(col(\"date\") >= data_6m, col(\"volume_hl\"))).alias(\"volume_medio_6m\"),\n",
    "        \n",
    "        # Share B2B últimos 3 meses\n",
    "        (sum(when((col(\"date\") >= data_3m) & (col(\"b2b_status\") == 1), col(\"volume_hl\"))) / \n",
    "         sum(when(col(\"date\") >= data_3m, col(\"volume_hl\"))) * 100).alias(\"share_b2b_3m\"),\n",
    "        \n",
    "        # Share B2B últimos 6 meses\n",
    "        (sum(when((col(\"date\") >= data_6m) & (col(\"b2b_status\") == 1), col(\"volume_hl\"))) / \n",
    "         sum(when(col(\"date\") >= data_6m, col(\"volume_hl\"))) * 100).alias(\"share_b2b_6m\")\n",
    "    ).withColumnRenamed(\"client_id\", \"cliente_id\")\n",
    "    \n",
    "    print(f\"   Visão consolidada criada para {visao.count():,} clientes\")\n",
    "    \n",
    "    return visao\n",
    "\n",
    "visao_consolidada = criar_visao_consolidada(df_sales_clean)"
   ]
  },
  {
   "cell_type": "markdown",
   "id": "96246ef9",
   "metadata": {},
   "source": [
    "## 8. Distribuição de Metas por Cliente"
   ]
  },
  {
   "cell_type": "code",
   "execution_count": null,
   "id": "de76eacf",
   "metadata": {},
   "outputs": [],
   "source": [
    "def distribuir_metas_por_cliente(df_sales, df_metas, ano=2025):\n",
    "    \"\"\"Distribui metas por marca proporcionalmente ao volume de cada cliente\"\"\"\n",
    "    \n",
    "    print(f\"Distribuindo metas por cliente para o ano {ano}...\")\n",
    "    \n",
    "    # Calcular volume total por cliente e marca\n",
    "    volume_cliente_marca = df_sales.groupBy(\"client_id\", \"brand\").agg(\n",
    "        sum(\"volume_hl\").alias(\"volume_total\")\n",
    "    )\n",
    "    \n",
    "    # Calcular volume total por marca\n",
    "    volume_total_marca = df_sales.groupBy(\"brand\").agg(\n",
    "        sum(\"volume_hl\").alias(\"volume_marca_total\")\n",
    "    )\n",
    "    \n",
    "    # Juntar para calcular percentual de participação\n",
    "    participacao = volume_cliente_marca.join(\n",
    "        volume_total_marca, \n",
    "        \"brand\"\n",
    "    ).withColumn(\n",
    "        \"percentual_participacao\",\n",
    "        round((col(\"volume_total\") / col(\"volume_marca_total\")) * 100, 4)\n",
    "    )\n",
    "    \n",
    "    # Juntar com metas\n",
    "    metas_distribuidas = participacao.join(\n",
    "        df_metas.select(\n",
    "            col(\"marca\").alias(\"brand\"),\n",
    "            col(\"meta\").alias(\"meta_marca\")\n",
    "        ),\n",
    "        \"brand\"\n",
    "    ).withColumn(\n",
    "        \"meta_cliente\",\n",
    "        round(col(\"meta_marca\") * col(\"percentual_participacao\") / 100, 2)\n",
    "    ).select(\n",
    "        col(\"client_id\").alias(\"cliente_id\"),\n",
    "        col(\"brand\").alias(\"marca\"),\n",
    "        \"volume_total\",\n",
    "        \"percentual_participacao\",\n",
    "        \"meta_marca\",\n",
    "        \"meta_cliente\"\n",
    "    )\n",
    "    \n",
    "    print(f\"   Metas distribuídas para {metas_distribuidas.count():,} combinações cliente-marca\")\n",
    "    \n",
    "    # Validação\n",
    "    print(\"\\n   Validação das metas:\")\n",
    "    validacao = metas_distribuidas.groupBy(\"marca\").agg(\n",
    "        sum(\"meta_cliente\").alias(\"soma_metas_clientes\"),\n",
    "        max(\"meta_marca\").alias(\"meta_original\")\n",
    "    ).withColumn(\n",
    "        \"diferenca\",\n",
    "        round(col(\"meta_original\") - col(\"soma_metas_clientes\"), 2)\n",
    "    )\n",
    "    \n",
    "    validacao.show()\n",
    "    \n",
    "    return metas_distribuidas\n",
    "\n",
    "metas_cliente = distribuir_metas_por_cliente(df_sales_clean, df_metas, ANO_META)"
   ]
  },
  {
   "cell_type": "markdown",
   "id": "46b1dbd1",
   "metadata": {},
   "source": [
    "## 9. Exportação dos Resultados"
   ]
  },
  {
   "cell_type": "code",
   "execution_count": null,
   "id": "64ef4389",
   "metadata": {},
   "outputs": [],
   "source": [
    "def exportar_para_delta(df, path, nome):\n",
    "    \"\"\"Exporta DataFrame para formato Delta Lake\"\"\"\n",
    "    print(f\"Exportando {nome}...\")\n",
    "    \n",
    "    df.write \\\n",
    "        .format(\"delta\") \\\n",
    "        .mode(\"overwrite\") \\\n",
    "        .option(\"overwriteSchema\", \"true\") \\\n",
    "        .save(path)\n",
    "    \n",
    "    print(f\"   {nome} salvo em {path}\")\n",
    "\n",
    "# Exportar todas as tabelas\n",
    "print(\"Exportando resultados para Delta Lake...\")\n",
    "print(\"=\" * 80)\n",
    "\n",
    "exportar_para_delta(visao_consolidada, f\"{OUTPUT_PATH}/visao_consolidada\", \"Visão Consolidada\")\n",
    "exportar_para_delta(metas_cliente, f\"{OUTPUT_PATH}/metas_por_cliente\", \"Metas por Cliente\")\n",
    "exportar_para_delta(modelo['dim_cliente'], f\"{OUTPUT_PATH}/dim_cliente\", \"Dimensão Cliente\")\n",
    "exportar_para_delta(modelo['dim_produto'], f\"{OUTPUT_PATH}/dim_produto\", \"Dimensão Produto\")\n",
    "exportar_para_delta(modelo['dim_tempo'], f\"{OUTPUT_PATH}/dim_tempo\", \"Dimensão Tempo\")\n",
    "exportar_para_delta(modelo['fato_vendas'], f\"{OUTPUT_PATH}/fato_vendas\", \"Fato Vendas\")"
   ]
  },
  {
   "cell_type": "markdown",
   "id": "a21da0fb",
   "metadata": {},
   "source": [
    "## 10. Criar Tabelas no Metastore (Opcional)"
   ]
  },
  {
   "cell_type": "code",
   "execution_count": null,
   "id": "99dd2417",
   "metadata": {},
   "outputs": [],
   "source": [
    "# Criar banco de dados se não existir\n",
    "spark.sql(\"CREATE DATABASE IF NOT EXISTS analytics_vendas\")\n",
    "\n",
    "# Registrar tabelas\n",
    "print(\"Registrando tabelas no Metastore...\")\n",
    "\n",
    "for nome_tabela, df in [\n",
    "    (\"visao_consolidada\", visao_consolidada),\n",
    "    (\"metas_por_cliente\", metas_cliente),\n",
    "    (\"dim_cliente\", modelo['dim_cliente']),\n",
    "    (\"dim_produto\", modelo['dim_produto']),\n",
    "    (\"dim_tempo\", modelo['dim_tempo']),\n",
    "    (\"fato_vendas\", modelo['fato_vendas'])\n",
    "]:\n",
    "    df.write \\\n",
    "        .format(\"delta\") \\\n",
    "        .mode(\"overwrite\") \\\n",
    "        .option(\"overwriteSchema\", \"true\") \\\n",
    "        .saveAsTable(f\"analytics_vendas.{nome_tabela}\")\n",
    "    \n",
    "    print(f\"   Tabela analytics_vendas.{nome_tabela} criada\")"
   ]
  },
  {
   "cell_type": "markdown",
   "id": "f8864d32",
   "metadata": {},
   "source": [
    "## 11. Resumo Final"
   ]
  },
  {
   "cell_type": "code",
   "execution_count": null,
   "id": "4f1bb25e",
   "metadata": {},
   "outputs": [],
   "source": [
    "print(\"=\" * 80)\n",
    "print(\"PROCESSAMENTO CONCLUÍDO COM SUCESSO!\")\n",
    "print(\"=\" * 80)\n",
    "print(f\"\\nResumo da Execução:\")\n",
    "print(f\"   • Data/Hora: {datetime.now().strftime('%Y-%m-%d %H:%M:%S')}\")\n",
    "print(f\"   • Registros de vendas processados: {df_sales_clean.count():,}\")\n",
    "print(f\"   • Clientes únicos: {modelo['dim_cliente'].count():,}\")\n",
    "print(f\"   • Marcas/Produtos: {modelo['dim_produto'].count():,}\")\n",
    "print(f\"   • Metas distribuídas: {metas_cliente.count():,} combinações\")\n",
    "print(f\"\\nDados salvos em: {OUTPUT_PATH}\")\n",
    "print(f\"Tabelas criadas no banco: analytics_vendas\")"
   ]
  },
  {
   "cell_type": "markdown",
   "id": "59ebe984",
   "metadata": {},
   "source": [
    "## 12. Visualizações Rápidas"
   ]
  },
  {
   "cell_type": "code",
   "execution_count": null,
   "id": "1c31b69a",
   "metadata": {},
   "outputs": [],
   "source": [
    "# Top 10 clientes por volume\n",
    "print(\"TOP 10 CLIENTES POR VOLUME\")\n",
    "display(\n",
    "    visao_consolidada\n",
    "    .orderBy(col(\"volume_medio_6m\").desc())\n",
    "    .limit(10)\n",
    ")"
   ]
  },
  {
   "cell_type": "code",
   "execution_count": null,
   "id": "8d8ee02f",
   "metadata": {},
   "outputs": [],
   "source": [
    "# Distribuição de metas por marca\n",
    "print(\"DISTRIBUIÇÃO DE METAS POR MARCA\")\n",
    "display(\n",
    "    metas_cliente\n",
    "    .groupBy(\"marca\")\n",
    "    .agg(\n",
    "        sum(\"meta_cliente\").alias(\"total_meta\"),\n",
    "        count(\"cliente_id\").alias(\"num_clientes\")\n",
    "    )\n",
    "    .orderBy(col(\"total_meta\").desc())\n",
    ")"
   ]
  }
 ],
 "metadata": {
  "language_info": {
   "name": "python"
  }
 },
 "nbformat": 4,
 "nbformat_minor": 5
}
